{
 "cells": [
  {
   "cell_type": "code",
   "execution_count": 1,
   "metadata": {
    "scrolled": true
   },
   "outputs": [
    {
     "name": "stdout",
     "output_type": "stream",
     "text": [
      "Reading and processing cluster data\n",
      "Cluster object generated\n",
      "\n",
      "Processing PARSEC isochrones for 1 photometric systems, N_met=1, N_age=10...\n",
      "Isochrone object generated\n",
      "\n",
      "Setting random seed to 17658\n",
      "Sampling selected IMF (chabrier_2014)\n",
      "Generating binary data\n",
      "Obtaining extinction coefficients\n",
      "Synthetic clusters object generated\n",
      "\n",
      "Likelihood object generated\n",
      "\n"
     ]
    }
   ],
   "source": [
    "import tempfile\n",
    "import pyabc\n",
    "import pandas as pd\n",
    "\n",
    "import os\n",
    "import sys\n",
    "sys.path.insert(0, os.path.abspath(\"../../../\"))\n",
    "import asteca\n",
    "\n",
    "# Load the observed cluster with pandas\n",
    "cluster_df = pd.read_csv(\"../_static/cluster.csv\")\n",
    "\n",
    "my_cluster = asteca.cluster(\n",
    "    cluster_df=cluster_df,\n",
    "    magnitude=\"Gmag\",\n",
    "    e_mag=\"e_Gmag\",\n",
    "    color=\"BP-RP\",\n",
    "    e_color='e_BP-RP',\n",
    ")\n",
    "\n",
    "# Isochrones parameters\n",
    "isochs = asteca.isochrones(\n",
    "    isochs_path=\"../_static/parsec/\",\n",
    "    magnitude={\"Gmag\": 6390.21},\n",
    "    color={\"G_BPmag\": 5182.58, \"G_RPmag\": 7825.08},\n",
    ")\n",
    "\n",
    "# Synthetic clusters parameters\n",
    "synthcl = asteca.synthetic(isochs)\n",
    "\n",
    "fix_params = {\"alpha\": 0.09, \"beta\": 0.94, \"Rv\": 3.1, \"DR\": 0.}\n",
    "synthcl.calibrate(my_cluster, fix_params)\n",
    "\n",
    "# Instantiate the likelihood\n",
    "likelihood = asteca.likelihood(my_cluster)\n",
    "\n",
    "def model(fit_params):\n",
    "    \"\"\"Generate synthetic cluster\"\"\"\n",
    "    synth_clust = synthcl.generate(fit_params)\n",
    "    # pyABC expects a dictionary from this function\n",
    "    synth_dict = {\"data\": synth_clust}\n",
    "    return synth_dict\n",
    "\n",
    "max_lkl = likelihood.max_lkl\n",
    "def distance(synth_dict, _):\n",
    "    \"\"\"\n",
    "    The likelihood is maximized for better fitted models but this distance requires\n",
    "    minimization. Hence we normalize and invert.\n",
    "    \"\"\"\n",
    "    lkl = likelihood.get(synth_dict[\"data\"])\n",
    "    return 1 - lkl / max_lkl\n",
    "\n",
    "met_min, met_max, loga_min, loga_max = synthcl.min_max()\n",
    "# Define a pyABC Distribution(). Uniform distributions are employed for all the parameters\n",
    "# here but the user can of course change this as desired. See the pyABC docs for more\n",
    "# information.\n",
    "priors = pyabc.Distribution(\n",
    "    {\n",
    "        \"met\": pyabc.RV(\"uniform\", met_min, met_max - met_min),\n",
    "        \"loga\": pyabc.RV(\"uniform\", loga_min, loga_max - loga_min),\n",
    "        \"dm\": pyabc.RV(\"uniform\", 7, 10 - 7),\n",
    "        \"Av\": pyabc.RV(\"uniform\", 0, 2 - 0)\n",
    "    }\n",
    ")"
   ]
  },
  {
   "cell_type": "code",
   "execution_count": 2,
   "metadata": {},
   "outputs": [
    {
     "name": "stderr",
     "output_type": "stream",
     "text": [
      "ABC.Sampler INFO: Parallelize sampling on 8 processes.\n",
      "ABC.History INFO: Start <ABCSMC id=17, start_time=2024-04-16 17:17:39>\n"
     ]
    },
    {
     "data": {
      "text/plain": [
       "<pyabc.storage.history.History at 0x7cab5b23c1d0>"
      ]
     },
     "execution_count": 2,
     "metadata": {},
     "output_type": "execute_result"
    }
   ],
   "source": [
    "abc = pyabc.ABCSMC(model, priors, distance, population_size=100)\n",
    "\n",
    "db_path = os.path.join(tempfile.gettempdir(), \"test.db\")\n",
    "abc.new(\"sqlite:///\" + db_path)"
   ]
  },
  {
   "cell_type": "code",
   "execution_count": 3,
   "metadata": {},
   "outputs": [
    {
     "name": "stderr",
     "output_type": "stream",
     "text": [
      "ABC INFO: Calibration sample t = -1.\n",
      "ABC INFO: t: 0, eps: 1.78425698e-01.\n",
      "/home/gabriel/miniconda3/envs/asteca/lib/python3.11/site-packages/scipy/stats/_distn_infrastructure.py:1988: RuntimeWarning: invalid value encountered in divide\n",
      "  x = np.asarray((x - loc)/scale, dtype=dtyp)\n",
      "/home/gabriel/miniconda3/envs/asteca/lib/python3.11/site-packages/scipy/stats/_distn_infrastructure.py:1988: RuntimeWarning: invalid value encountered in divide\n",
      "  x = np.asarray((x - loc)/scale, dtype=dtyp)\n",
      "/home/gabriel/miniconda3/envs/asteca/lib/python3.11/site-packages/scipy/stats/_distn_infrastructure.py:1988: RuntimeWarning: invalid value encountered in divide\n",
      "  x = np.asarray((x - loc)/scale, dtype=dtyp)\n",
      "/home/gabriel/miniconda3/envs/asteca/lib/python3.11/site-packages/scipy/stats/_distn_infrastructure.py:1988: RuntimeWarning: invalid value encountered in divide\n",
      "  x = np.asarray((x - loc)/scale, dtype=dtyp)\n",
      "/home/gabriel/miniconda3/envs/asteca/lib/python3.11/site-packages/scipy/stats/_distn_infrastructure.py:1988: RuntimeWarning: invalid value encountered in divide\n",
      "  x = np.asarray((x - loc)/scale, dtype=dtyp)\n",
      "/home/gabriel/miniconda3/envs/asteca/lib/python3.11/site-packages/scipy/stats/_distn_infrastructure.py:1988: RuntimeWarning: invalid value encountered in divide\n",
      "  x = np.asarray((x - loc)/scale, dtype=dtyp)\n",
      "/home/gabriel/miniconda3/envs/asteca/lib/python3.11/site-packages/scipy/stats/_distn_infrastructure.py:1988: RuntimeWarning: invalid value encountered in divide\n",
      "  x = np.asarray((x - loc)/scale, dtype=dtyp)\n",
      "/home/gabriel/miniconda3/envs/asteca/lib/python3.11/site-packages/scipy/stats/_distn_infrastructure.py:1988: RuntimeWarning: invalid value encountered in divide\n",
      "  x = np.asarray((x - loc)/scale, dtype=dtyp)\n",
      "ABC.History INFO: Done <ABCSMC id=17, duration=0:00:00.699616, end_time=2024-04-16 17:17:39>\n"
     ]
    },
    {
     "ename": "AssertionError",
     "evalue": "The population total weight nan is not normalized.",
     "output_type": "error",
     "traceback": [
      "\u001b[0;31m---------------------------------------------------------------------------\u001b[0m",
      "\u001b[0;31mAssertionError\u001b[0m                            Traceback (most recent call last)",
      "Cell \u001b[0;32mIn[3], line 1\u001b[0m\n\u001b[0;32m----> 1\u001b[0m history \u001b[38;5;241m=\u001b[39m \u001b[43mabc\u001b[49m\u001b[38;5;241;43m.\u001b[39;49m\u001b[43mrun\u001b[49m\u001b[43m(\u001b[49m\u001b[43mminimum_epsilon\u001b[49m\u001b[38;5;241;43m=\u001b[39;49m\u001b[38;5;241;43m0.01\u001b[39;49m\u001b[43m,\u001b[49m\u001b[43m \u001b[49m\u001b[43mmax_nr_populations\u001b[49m\u001b[38;5;241;43m=\u001b[39;49m\u001b[38;5;241;43m5\u001b[39;49m\u001b[43m)\u001b[49m\n",
      "File \u001b[0;32m~/miniconda3/envs/asteca/lib/python3.11/site-packages/pyabc/inference/smc.py:62\u001b[0m, in \u001b[0;36mrun_cleanup.<locals>.wrapped_run\u001b[0;34m(self, *args, **kwargs)\u001b[0m\n\u001b[1;32m     59\u001b[0m \u001b[38;5;28;01mdef\u001b[39;00m \u001b[38;5;21mwrapped_run\u001b[39m(\u001b[38;5;28mself\u001b[39m: \u001b[38;5;124m\"\u001b[39m\u001b[38;5;124mABCSMC\u001b[39m\u001b[38;5;124m\"\u001b[39m, \u001b[38;5;241m*\u001b[39margs, \u001b[38;5;241m*\u001b[39m\u001b[38;5;241m*\u001b[39mkwargs):\n\u001b[1;32m     60\u001b[0m     \u001b[38;5;28;01mtry\u001b[39;00m:\n\u001b[1;32m     61\u001b[0m         \u001b[38;5;66;03m# the actual run\u001b[39;00m\n\u001b[0;32m---> 62\u001b[0m         ret \u001b[38;5;241m=\u001b[39m \u001b[43mrun\u001b[49m\u001b[43m(\u001b[49m\u001b[38;5;28;43mself\u001b[39;49m\u001b[43m,\u001b[49m\u001b[43m \u001b[49m\u001b[38;5;241;43m*\u001b[39;49m\u001b[43margs\u001b[49m\u001b[43m,\u001b[49m\u001b[43m \u001b[49m\u001b[38;5;241;43m*\u001b[39;49m\u001b[38;5;241;43m*\u001b[39;49m\u001b[43mkwargs\u001b[49m\u001b[43m)\u001b[49m\n\u001b[1;32m     63\u001b[0m     \u001b[38;5;28;01mfinally\u001b[39;00m:\n\u001b[1;32m     64\u001b[0m         \u001b[38;5;66;03m# close session and store end time\u001b[39;00m\n\u001b[1;32m     65\u001b[0m         \u001b[38;5;28mself\u001b[39m\u001b[38;5;241m.\u001b[39mhistory\u001b[38;5;241m.\u001b[39mdone(end_time\u001b[38;5;241m=\u001b[39mdatetime\u001b[38;5;241m.\u001b[39mnow())\n",
      "File \u001b[0;32m~/miniconda3/envs/asteca/lib/python3.11/site-packages/pyabc/inference/smc.py:700\u001b[0m, in \u001b[0;36mABCSMC.run\u001b[0;34m(self, minimum_epsilon, max_nr_populations, min_acceptance_rate, max_total_nr_simulations, max_walltime, min_eps_diff)\u001b[0m\n\u001b[1;32m    697\u001b[0m t \u001b[38;5;241m=\u001b[39m t0\n\u001b[1;32m    698\u001b[0m \u001b[38;5;28;01mwhile\u001b[39;00m \u001b[38;5;28;01mTrue\u001b[39;00m:\n\u001b[1;32m    699\u001b[0m     \u001b[38;5;66;03m# perform one generation\u001b[39;00m\n\u001b[0;32m--> 700\u001b[0m     ret \u001b[38;5;241m=\u001b[39m \u001b[38;5;28;43mself\u001b[39;49m\u001b[38;5;241;43m.\u001b[39;49m\u001b[43mrun_generation\u001b[49m\u001b[43m(\u001b[49m\u001b[43mt\u001b[49m\u001b[38;5;241;43m=\u001b[39;49m\u001b[43mt\u001b[49m\u001b[43m)\u001b[49m\n\u001b[1;32m    702\u001b[0m     \u001b[38;5;66;03m# check whether to discontinue\u001b[39;00m\n\u001b[1;32m    703\u001b[0m     \u001b[38;5;28;01mif\u001b[39;00m \u001b[38;5;129;01mnot\u001b[39;00m ret[\u001b[38;5;124m\"\u001b[39m\u001b[38;5;124msuccessful\u001b[39m\u001b[38;5;124m\"\u001b[39m] \u001b[38;5;129;01mor\u001b[39;00m \u001b[38;5;28mself\u001b[39m\u001b[38;5;241m.\u001b[39mcheck_terminate(\n\u001b[1;32m    704\u001b[0m         t\u001b[38;5;241m=\u001b[39mt,\n\u001b[1;32m    705\u001b[0m         acceptance_rate\u001b[38;5;241m=\u001b[39mret[\u001b[38;5;124m\"\u001b[39m\u001b[38;5;124macceptance_rate\u001b[39m\u001b[38;5;124m\"\u001b[39m],\n\u001b[1;32m    706\u001b[0m     ):\n",
      "File \u001b[0;32m~/miniconda3/envs/asteca/lib/python3.11/site-packages/pyabc/inference/smc.py:834\u001b[0m, in \u001b[0;36mABCSMC.run_generation\u001b[0;34m(self, t)\u001b[0m\n\u001b[1;32m    831\u001b[0m sample\u001b[38;5;241m.\u001b[39mnormalize_weights()\n\u001b[1;32m    833\u001b[0m \u001b[38;5;66;03m# retrieve accepted population\u001b[39;00m\n\u001b[0;32m--> 834\u001b[0m population \u001b[38;5;241m=\u001b[39m \u001b[43msample\u001b[49m\u001b[38;5;241;43m.\u001b[39;49m\u001b[43mget_accepted_population\u001b[49m\u001b[43m(\u001b[49m\u001b[43m)\u001b[49m\n\u001b[1;32m    835\u001b[0m logger\u001b[38;5;241m.\u001b[39mdebug(\u001b[38;5;124mf\u001b[39m\u001b[38;5;124m\"\u001b[39m\u001b[38;5;124mPopulation \u001b[39m\u001b[38;5;132;01m{\u001b[39;00mt\u001b[38;5;132;01m}\u001b[39;00m\u001b[38;5;124m done.\u001b[39m\u001b[38;5;124m\"\u001b[39m)\n\u001b[1;32m    837\u001b[0m \u001b[38;5;66;03m# save to database\u001b[39;00m\n",
      "File \u001b[0;32m~/miniconda3/envs/asteca/lib/python3.11/site-packages/pyabc/population/population.py:397\u001b[0m, in \u001b[0;36mSample.get_accepted_population\u001b[0;34m(self)\u001b[0m\n\u001b[1;32m    390\u001b[0m \u001b[38;5;28;01mdef\u001b[39;00m \u001b[38;5;21mget_accepted_population\u001b[39m(\u001b[38;5;28mself\u001b[39m) \u001b[38;5;241m-\u001b[39m\u001b[38;5;241m>\u001b[39m Population:\n\u001b[1;32m    391\u001b[0m \u001b[38;5;250m    \u001b[39m\u001b[38;5;124;03m\"\"\"\u001b[39;00m\n\u001b[1;32m    392\u001b[0m \u001b[38;5;124;03m    Returns\u001b[39;00m\n\u001b[1;32m    393\u001b[0m \u001b[38;5;124;03m    -------\u001b[39;00m\n\u001b[1;32m    394\u001b[0m \u001b[38;5;124;03m    population: Population\u001b[39;00m\n\u001b[1;32m    395\u001b[0m \u001b[38;5;124;03m        A population of only the accepted particles.\u001b[39;00m\n\u001b[1;32m    396\u001b[0m \u001b[38;5;124;03m    \"\"\"\u001b[39;00m\n\u001b[0;32m--> 397\u001b[0m     \u001b[38;5;28;01mreturn\u001b[39;00m \u001b[43mPopulation\u001b[49m\u001b[43m(\u001b[49m\u001b[38;5;28;43mself\u001b[39;49m\u001b[38;5;241;43m.\u001b[39;49m\u001b[43maccepted_particles\u001b[49m\u001b[38;5;241;43m.\u001b[39;49m\u001b[43mcopy\u001b[49m\u001b[43m(\u001b[49m\u001b[43m)\u001b[49m\u001b[43m)\u001b[49m\n",
      "File \u001b[0;32m~/miniconda3/envs/asteca/lib/python3.11/site-packages/pyabc/population/population.py:98\u001b[0m, in \u001b[0;36mPopulation.__init__\u001b[0;34m(self, particles)\u001b[0m\n\u001b[1;32m     93\u001b[0m     \u001b[38;5;28;01mraise\u001b[39;00m \u001b[38;5;167;01mAssertionError\u001b[39;00m(\n\u001b[1;32m     94\u001b[0m         \u001b[38;5;124m\"\u001b[39m\u001b[38;5;124mA population should only consist of accepted particles\u001b[39m\u001b[38;5;124m\"\u001b[39m\n\u001b[1;32m     95\u001b[0m     )\n\u001b[1;32m     97\u001b[0m \u001b[38;5;28;01mif\u001b[39;00m \u001b[38;5;129;01mnot\u001b[39;00m np\u001b[38;5;241m.\u001b[39misclose(total_weight \u001b[38;5;241m:=\u001b[39m \u001b[38;5;28msum\u001b[39m(p\u001b[38;5;241m.\u001b[39mweight \u001b[38;5;28;01mfor\u001b[39;00m p \u001b[38;5;129;01min\u001b[39;00m particles), \u001b[38;5;241m1\u001b[39m):\n\u001b[0;32m---> 98\u001b[0m     \u001b[38;5;28;01mraise\u001b[39;00m \u001b[38;5;167;01mAssertionError\u001b[39;00m(\n\u001b[1;32m     99\u001b[0m         \u001b[38;5;124mf\u001b[39m\u001b[38;5;124m\"\u001b[39m\u001b[38;5;124mThe population total weight \u001b[39m\u001b[38;5;132;01m{\u001b[39;00mtotal_weight\u001b[38;5;132;01m}\u001b[39;00m\u001b[38;5;124m is not normalized.\u001b[39m\u001b[38;5;124m\"\u001b[39m\n\u001b[1;32m    100\u001b[0m     )\n\u001b[1;32m    102\u001b[0m \u001b[38;5;28mself\u001b[39m\u001b[38;5;241m.\u001b[39mcalculate_model_probabilities()\n",
      "\u001b[0;31mAssertionError\u001b[0m: The population total weight nan is not normalized."
     ]
    }
   ],
   "source": [
    "history = abc.run(minimum_epsilon=0.01, max_nr_populations=5)"
   ]
  },
  {
   "cell_type": "code",
   "execution_count": null,
   "metadata": {},
   "outputs": [],
   "source": []
  }
 ],
 "metadata": {
  "celltoolbar": "Raw Cell Format",
  "kernelspec": {
   "display_name": "asteca",
   "language": "python",
   "name": "asteca"
  },
  "language_info": {
   "codemirror_mode": {
    "name": "ipython",
    "version": 3
   },
   "file_extension": ".py",
   "mimetype": "text/x-python",
   "name": "python",
   "nbconvert_exporter": "python",
   "pygments_lexer": "ipython3",
   "version": "3.11.8"
  }
 },
 "nbformat": 4,
 "nbformat_minor": 4
}
