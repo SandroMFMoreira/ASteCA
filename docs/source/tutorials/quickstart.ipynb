{
 "cells": [
  {
   "cell_type": "markdown",
   "metadata": {},
   "source": [
    "(quickstart)=\n",
    "\n",
    "# Quickstart "
   ]
  },
  {
   "cell_type": "code",
   "execution_count": null,
   "metadata": {
    "editable": true,
    "slideshow": {
     "slide_type": ""
    },
    "tags": [
     "hide-cell"
    ]
   },
   "outputs": [],
   "source": [
    "#%config InlineBackend.figure_format = \"retina\""
   ]
  },
  {
   "cell_type": "markdown",
   "metadata": {},
   "source": [
    "## Fundamental parameters estimation with pyABC\n",
    "\n",
    "This is a simple example of how we can use a package like [pyABC](https://pyabc.readthedocs.io/) to generate an estimation of the fundamental parameters for an observed cluster. The user can combine **ASteCA** with any other package of their choosing."
   ]
  },
  {
   "cell_type": "markdown",
   "metadata": {},
   "source": [
    "We start by loading the observed cluster as a `pandas.DataFile()` object:"
   ]
  },
  {
   "cell_type": "code",
   "execution_count": null,
   "metadata": {},
   "outputs": [],
   "source": [
    "import pandas as pd\n",
    "\n",
    "# Load the observed cluster with pandas\n",
    "cluster_df = pd.read_csv(\"../_static/cluster.csv\")"
   ]
  },
  {
   "cell_type": "markdown",
   "metadata": {},
   "source": [
    "Next, we import the ``asteca`` package and define a ``cluster()`` object:"
   ]
  },
  {
   "cell_type": "code",
   "execution_count": null,
   "metadata": {},
   "outputs": [],
   "source": [
    "import os\n",
    "import sys\n",
    "sys.path.insert(0, os.path.abspath(\"../../../\"))\n",
    "\n",
    "import asteca\n",
    "\n",
    "my_cluster = asteca.cluster(\n",
    "    cluster_df=cluster_df,\n",
    "    magnitude=\"Gmag\",\n",
    "    e_mag=\"e_Gmag\",\n",
    "    color=\"BP-RP\",\n",
    "    e_color='e_BP-RP',\n",
    ")"
   ]
  },
  {
   "cell_type": "markdown",
   "metadata": {},
   "source": [
    "Now we load the PARSEC isochrone file defining an `isochrone()` object:"
   ]
  },
  {
   "cell_type": "code",
   "execution_count": null,
   "metadata": {},
   "outputs": [],
   "source": [
    "# Isochrones parameters\n",
    "isochs = asteca.isochrones(\n",
    "    isochs_path=\"../_static/parsec/\",\n",
    "    magnitude={\"Gmag\": 6390.21},\n",
    "    color={\"G_BPmag\": 5182.58, \"G_RPmag\": 7825.08},\n",
    ")"
   ]
  },
  {
   "cell_type": "markdown",
   "metadata": {},
   "source": [
    "To instantiate a `synthetic` object we pass the `isochs` object we just created:"
   ]
  },
  {
   "cell_type": "code",
   "execution_count": null,
   "metadata": {},
   "outputs": [],
   "source": [
    "# Synthetic clusters parameters\n",
    "synthcl = asteca.synthetic(isochs)"
   ]
  },
  {
   "cell_type": "markdown",
   "metadata": {},
   "source": [
    "Now we calibrate it with the `my_cluster` object and a dictionary with fixed parameters. We chose `alpha, beta Rv, DR` as fixed parameters: "
   ]
  },
  {
   "cell_type": "code",
   "execution_count": null,
   "metadata": {},
   "outputs": [],
   "source": [
    "fix_params = {\"alpha\": 0.09, \"beta\": 0.94, \"Rv\": 3.1, \"DR\": 0.}\n",
    "synthcl.calibrate(my_cluster, fix_params)"
   ]
  },
  {
   "cell_type": "markdown",
   "metadata": {},
   "source": [
    "Finally, we define a `likelihood()` object, which will be used to quantify how similar our observed cluster is to the generated synthetic clusters:"
   ]
  },
  {
   "cell_type": "code",
   "execution_count": null,
   "metadata": {},
   "outputs": [],
   "source": [
    "# Instantiate the likelihood\n",
    "likelihood = asteca.likelihood(my_cluster)"
   ]
  },
  {
   "cell_type": "markdown",
   "metadata": {},
   "source": [
    "We are now ready to begin the fundamental parameters estimation process with pyABC. pyABC works by minimizing the distance between our data (the observed cluster) and synthetic data (the synthetic clusters). We will need to convenience functions to do this.\n",
    "\n",
    "The first function required is `model()`. This takes a dictionary with the parameters that are *not* included in `fix_params` when our `synthcl` object was calibrated. This dictionary is used to generate a synthetic cluster via the `generate()` method. The returned variable is a dictionary simply because this is what pyABC expects; this is not a requirement of **ASteCA**."
   ]
  },
  {
   "cell_type": "code",
   "execution_count": null,
   "metadata": {
    "scrolled": true
   },
   "outputs": [],
   "source": [
    "def model(fit_params):\n",
    "    \"\"\"Generate synthetic cluster\"\"\"\n",
    "    synth_clust = synthcl.generate(fit_params)\n",
    "    # pyABC expects a dictionary from this function\n",
    "    synth_dict = {\"data\": synth_clust}\n",
    "    return synth_dict"
   ]
  },
  {
   "cell_type": "markdown",
   "metadata": {},
   "source": [
    "Since the `likelihood()` object by default returns a value that *increases* to indicate that the observed data and the synthetic data are more similar, we need to invert this value so that it *decreases* when the synthetic data approaches the observed data (becaue pyABC wants to *minimize* this value). We thus define a `distance()` function that inverts `lkl` using the `max_lkl` value which is the likelihood of the observed data evaluated on the observed data. I.e.: the largest value that the lieklihood can ever return.\n",
    "\n",
    "Notice that this function recieves two arguments from pyABC but we only require one, hence the second argument is dismissed. The function makes use of the dictionary generated by the `model()` function, containing the synthetic cluster."
   ]
  },
  {
   "cell_type": "code",
   "execution_count": null,
   "metadata": {},
   "outputs": [],
   "source": [
    "max_lkl = likelihood.max_lkl\n",
    "def distance(synth_dict, _):\n",
    "    \"\"\"\n",
    "    The likelihood is maximized for better fitted models but this distance requires\n",
    "    minimization. Hence we normalize and invert.\n",
    "    \"\"\"\n",
    "    lkl = likelihood.get(synth_dict[\"data\"])\n",
    "    return 1 - lkl / max_lkl"
   ]
  },
  {
   "cell_type": "markdown",
   "metadata": {},
   "source": [
    "Now we are ready to import pyABC and define the priors for the parameters that are being estimated (i.e: those that were not fixed).\n",
    "\n",
    "First we use the `min_max()` method of the `synthcl` object to return the minimum and maximum values of the isochrones we loaded initaially (if you know thes values or want to use a different range, this step can be skipped).\n",
    "\n",
    "Notice that the priors defined this way require using the minimum value and the desired *range*, not the maximum value."
   ]
  },
  {
   "cell_type": "code",
   "execution_count": null,
   "metadata": {
    "tags": [
     "hide-output"
    ]
   },
   "outputs": [],
   "source": [
    "import pyabc\n",
    "\n",
    "met_min, met_max, loga_min, loga_max = synthcl.min_max()\n",
    "\n",
    "# Define a pyABC Distribution(). Uniform distributions are employed for all the parameters\n",
    "# here but the user can of course change this as desired. See the pyABC docs for more\n",
    "# information.\n",
    "priors = pyabc.Distribution(\n",
    "    {\n",
    "        \"met\": pyabc.RV(\"uniform\", met_min, met_max - met_min),\n",
    "        \"loga\": pyabc.RV(\"uniform\", loga_min, loga_max - loga_min),\n",
    "        \"dm\": pyabc.RV(\"uniform\", 7, 10 - 7),\n",
    "        \"Av\": pyabc.RV(\"uniform\", 0, 2 - 0)\n",
    "    }\n",
    ")"
   ]
  },
  {
   "cell_type": "markdown",
   "metadata": {},
   "source": [
    "We create an [ABCSMC](https://pyabc.readthedocs.io/en/latest/api/pyabc.inference.html#pyabc.inference.ABCSMC) object with the `model` and `distance` functions, as well as the priors defined earlier. A population of 100 is usually enough. The tempfile defined below is required by pyABC."
   ]
  },
  {
   "cell_type": "code",
   "execution_count": null,
   "metadata": {},
   "outputs": [],
   "source": [
    "# Define pyABC parameters\n",
    "pop_size = 100\n",
    "abc = pyabc.ABCSMC(\n",
    "    model,\n",
    "    priors,\n",
    "    distance,\n",
    "    population_size=pop_size,\n",
    "    #sampler=pyabc.sampler.SingleCoreSampler()\n",
    ")\n",
    "\n",
    "# This is a temporary file required by pyABC\n",
    "import os\n",
    "import tempfile  # Used by pyABC\n",
    "db_path = \"sqlite:///\" + os.path.join(tempfile.gettempdir(), \"pyABC.db\")\n",
    "abc.new(db_path)"
   ]
  },
  {
   "cell_type": "markdown",
   "metadata": {},
   "source": [
    "Finally, we can run pyABC to perform Approximate Bayesian Inference on our parameters. We set a "
   ]
  },
  {
   "cell_type": "code",
   "execution_count": null,
   "metadata": {
    "scrolled": true,
    "tags": [
     "hide-output"
    ]
   },
   "outputs": [],
   "source": [
    "import datetime as dt\n",
    "history = abc.run(max_walltime=dt.timedelta(hours=0, minutes=1))"
   ]
  },
  {
   "cell_type": "code",
   "execution_count": null,
   "metadata": {},
   "outputs": [],
   "source": [
    "# Extract last iteration and weights\n",
    "df, w = history.get_distribution()\n",
    "\n",
    "\n",
    "for k in df.keys():\n",
    "    _median = pyabc.weighted_statistics.weighted_median(df[k].values, w)\n",
    "    _std = pyabc.weighted_statistics.weighted_std(df[k].values, w)\n",
    "    print(k, _median, _std)\n",
    "print(f\"ESS: {pyabc.weighted_statistics.effective_sample_size(w)}\")\n",
    "final_dist = pyabc.inference_util.eps_from_hist(history)\n",
    "print(f\"Dist: {final_dist}\")\n",
    "\n",
    "# Estimate masses and binarity fraction\n",
    "model_fit = {\n",
    "    k: pyabc.weighted_statistics.weighted_median(df[k].values, w) for k in df.keys()\n",
    "}\n",
    "my_cluster.clust_plot(synthcl, model_fit)"
   ]
  },
  {
   "cell_type": "code",
   "execution_count": null,
   "metadata": {},
   "outputs": [],
   "source": [
    "pyabc.settings.set_figure_params(\"pyabc\")\n",
    "pyabc.visualization.plot_histogram_matrix(history)"
   ]
  }
 ],
 "metadata": {
  "execution": {
   "timeout": 90
  },
  "kernelspec": {
   "display_name": "asteca",
   "language": "python",
   "name": "asteca"
  },
  "language_info": {
   "codemirror_mode": {
    "name": "ipython",
    "version": 3
   },
   "file_extension": ".py",
   "mimetype": "text/x-python",
   "name": "python",
   "nbconvert_exporter": "python",
   "pygments_lexer": "ipython3",
   "version": "3.11.8"
  }
 },
 "nbformat": 4,
 "nbformat_minor": 4
}
