{
 "cells": [
  {
   "cell_type": "markdown",
   "metadata": {},
   "source": [
    "(quickstart)=\n",
    "\n",
    "# Quickstart "
   ]
  },
  {
   "cell_type": "code",
   "execution_count": 1,
   "metadata": {
    "tags": [
     "hide-cell"
    ]
   },
   "outputs": [],
   "source": [
    "%config InlineBackend.figure_format = \"retina\"\n",
    "\n",
    "from matplotlib import rcParams\n",
    "\n",
    "rcParams[\"savefig.dpi\"] = 100\n",
    "rcParams[\"figure.dpi\"] = 100\n",
    "rcParams[\"font.size\"] = 20"
   ]
  },
  {
   "cell_type": "markdown",
   "metadata": {},
   "source": [
    "The easiest way to get started with using emcee is to use it for a project. To get you started, here’s an annotated, fully-functional example that demonstrates a standard usage pattern.\n",
    "\n",
    "## How to sample a multi-dimensional Gaussian\n",
    "\n",
    "We’re going to demonstrate how you might draw samples from the multivariate Gaussian density given by:\n",
    "\n",
    "$$\n",
    "p(\\vec{x}) \\propto \\exp \\left [ - \\frac{1}{2} (\\vec{x} -\n",
    "    \\vec{\\mu})^\\mathrm{T} \\, \\Sigma ^{-1} \\, (\\vec{x} - \\vec{\\mu})\n",
    "    \\right ]\n",
    "$$\n",
    "\n",
    "where $\\vec{\\mu}$ is an $N$-dimensional vector position of the mean of the density and $\\Sigma$ is the square N-by-N covariance matrix.\n",
    "\n",
    "The first thing that we need to do is import the necessary modules:"
   ]
  },
  {
   "cell_type": "code",
   "execution_count": 2,
   "metadata": {},
   "outputs": [],
   "source": [
    "import numpy as np"
   ]
  },
  {
   "cell_type": "markdown",
   "metadata": {},
   "source": [
    "Then, we’ll code up a Python function that returns the density $p(\\vec{x})$ for specific values of $\\vec{x}$, $\\vec{\\mu}$ and $\\Sigma^{-1}$. In fact, emcee actually requires the logarithm of $p$. We’ll call it `log_prob`:"
   ]
  },
  {
   "cell_type": "code",
   "execution_count": 3,
   "metadata": {},
   "outputs": [],
   "source": [
    "def log_prob(x, mu, cov):\n",
    "    diff = x - mu\n",
    "    return -0.5 * np.dot(diff, np.linalg.solve(cov, diff))"
   ]
  },
  {
   "cell_type": "markdown",
   "metadata": {},
   "source": [
    "It is important that the first argument of the probability function is\n",
    "the position of a single \"walker\" (a *N* dimensional\n",
    "`numpy` array). The following arguments are going to be constant every\n",
    "time the function is called and the values come from the `args` parameter\n",
    "of our {class}`EnsembleSampler` that we'll see soon.\n",
    "\n",
    "Now, we'll set up the specific values of those \"hyperparameters\" in 5\n",
    "dimensions:"
   ]
  },
  {
   "cell_type": "code",
   "execution_count": 4,
   "metadata": {},
   "outputs": [],
   "source": [
    "ndim = 5\n",
    "\n",
    "np.random.seed(42)\n",
    "means = np.random.rand(ndim)\n",
    "\n",
    "cov = 0.5 - np.random.rand(ndim**2).reshape((ndim, ndim))\n",
    "cov = np.triu(cov)\n",
    "cov += cov.T - np.diag(cov.diagonal())\n",
    "cov = np.dot(cov, cov)"
   ]
  },
  {
   "cell_type": "markdown",
   "metadata": {},
   "source": [
    "and where `cov` is $\\Sigma$."
   ]
  },
  {
   "cell_type": "markdown",
   "metadata": {},
   "source": [
    "How about we use 32 walkers? Before we go on, we need to guess a starting point for each\n",
    "of the 32 walkers. This position will be a 5-dimensional vector so the\n",
    "initial guess should be a 32-by-5 array.\n",
    "It's not a very good guess but we'll just guess a\n",
    "random number between 0 and 1 for each component:"
   ]
  },
  {
   "cell_type": "code",
   "execution_count": 5,
   "metadata": {},
   "outputs": [],
   "source": [
    "nwalkers = 32\n",
    "p0 = np.random.rand(nwalkers, ndim)"
   ]
  },
  {
   "cell_type": "markdown",
   "metadata": {},
   "source": [
    "Now that we've gotten past all the bookkeeping stuff, we can move on to\n",
    "the fun stuff. The main interface provided by `emcee` is the\n",
    "{class}`EnsembleSampler` object so let's get ourselves one of those:"
   ]
  },
  {
   "cell_type": "code",
   "execution_count": 6,
   "metadata": {},
   "outputs": [],
   "source": [
    "import asteca\n",
    "\n",
    "#sampler = emcee.EnsembleSampler(nwalkers, ndim, log_prob, args=[means, cov])"
   ]
  },
  {
   "cell_type": "markdown",
   "metadata": {},
   "source": [
    "Remember how our function `log_prob` required two extra arguments when it\n",
    "was called? By setting up our sampler with the `args` argument, we're\n",
    "saying that the probability function should be called as:"
   ]
  }
 ],
 "metadata": {
  "kernelspec": {
   "display_name": "Python 3 (ipykernel)",
   "language": "python",
   "name": "python3"
  },
  "language_info": {
   "codemirror_mode": {
    "name": "ipython",
    "version": 3
   },
   "file_extension": ".py",
   "mimetype": "text/x-python",
   "name": "python",
   "nbconvert_exporter": "python",
   "pygments_lexer": "ipython3",
   "version": "3.11.5"
  }
 },
 "nbformat": 4,
 "nbformat_minor": 4
}
